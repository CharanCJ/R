{
  "nbformat": 4,
  "nbformat_minor": 0,
  "metadata": {
    "kernelspec": {
      "display_name": "R",
      "language": "R",
      "name": "ir"
    },
    "language_info": {
      "codemirror_mode": "r",
      "file_extension": ".r",
      "mimetype": "text/x-r-source",
      "name": "R",
      "pygments_lexer": "r",
      "version": "3.3.1"
    },
    "colab": {
      "provenance": []
    }
  },
  "cells": [
    {
      "cell_type": "code",
      "metadata": {
        "id": "AvdoG0fvbhhx"
      },
      "source": [
        "my_obj = 45"
      ],
      "execution_count": 1,
      "outputs": []
    },
    {
      "cell_type": "code",
      "source": [
        "my_int = 10L  #L represents integer\n",
        "print(my_int)"
      ],
      "metadata": {
        "colab": {
          "base_uri": "https://localhost:8080/"
        },
        "id": "nZfIszlhFsd9",
        "outputId": "abbe188f-2a24-4ee3-9687-f6b956f0d25b"
      },
      "execution_count": 8,
      "outputs": [
        {
          "output_type": "stream",
          "name": "stdout",
          "text": [
            "[1] 10\n"
          ]
        }
      ]
    },
    {
      "cell_type": "code",
      "source": [
        "# 1 Create a Vector data structure - should be of same data type\n",
        "my_vec1 = c(1L,2L,3L)\n",
        "print(my_vec1)\n",
        "my_vec2 = 1:3\n",
        "print(my_vec2)\n",
        "my_vec3 = seq(from = 1, to = 10, by = 2)\n",
        "print(my_vec3)"
      ],
      "metadata": {
        "colab": {
          "base_uri": "https://localhost:8080/"
        },
        "id": "_gUqErxSHupX",
        "outputId": "d910ebe4-8608-4ec9-a0f3-696a34b09db7"
      },
      "execution_count": 11,
      "outputs": [
        {
          "output_type": "stream",
          "name": "stdout",
          "text": [
            "[1] 1 2 3\n",
            "[1] 1 2 3\n",
            "[1] 1 3 5 7 9\n"
          ]
        }
      ]
    },
    {
      "cell_type": "code",
      "source": [
        "#Functions\n",
        "length(my_vec3)\n",
        "class(my_vec3)  #to know fundamental data type\n",
        "class(my_vec1)\n",
        "typeof(my_vec3)\n",
        "typeof(my_vec1)\n",
        "str(my_vec3) #str define structure of the object."
      ],
      "metadata": {
        "colab": {
          "base_uri": "https://localhost:8080/",
          "height": 121
        },
        "id": "UpX2NULHIwam",
        "outputId": "763a4047-6b11-4b3a-db09-886b7917afd0"
      },
      "execution_count": 17,
      "outputs": [
        {
          "output_type": "display_data",
          "data": {
            "text/html": [
              "5"
            ],
            "text/markdown": "5",
            "text/latex": "5",
            "text/plain": [
              "[1] 5"
            ]
          },
          "metadata": {}
        },
        {
          "output_type": "display_data",
          "data": {
            "text/html": [
              "'numeric'"
            ],
            "text/markdown": "'numeric'",
            "text/latex": "'numeric'",
            "text/plain": [
              "[1] \"numeric\""
            ]
          },
          "metadata": {}
        },
        {
          "output_type": "display_data",
          "data": {
            "text/html": [
              "'integer'"
            ],
            "text/markdown": "'integer'",
            "text/latex": "'integer'",
            "text/plain": [
              "[1] \"integer\""
            ]
          },
          "metadata": {}
        },
        {
          "output_type": "display_data",
          "data": {
            "text/html": [
              "'double'"
            ],
            "text/markdown": "'double'",
            "text/latex": "'double'",
            "text/plain": [
              "[1] \"double\""
            ]
          },
          "metadata": {}
        },
        {
          "output_type": "display_data",
          "data": {
            "text/html": [
              "'integer'"
            ],
            "text/markdown": "'integer'",
            "text/latex": "'integer'",
            "text/plain": [
              "[1] \"integer\""
            ]
          },
          "metadata": {}
        },
        {
          "output_type": "stream",
          "name": "stdout",
          "text": [
            " num [1:5] 1 3 5 7 9\n"
          ]
        }
      ]
    },
    {
      "cell_type": "code",
      "source": [
        "#Access elements of vector\n",
        "my_vec3[4]\n",
        "#Modify vector element\n",
        "my_vec3[4] = 3\n",
        "print(my_vec3)"
      ],
      "metadata": {
        "colab": {
          "base_uri": "https://localhost:8080/",
          "height": 52
        },
        "id": "a3Ezn7g7Kk8F",
        "outputId": "3a1e3089-5ee8-4f61-c3ad-426964c4a846"
      },
      "execution_count": 19,
      "outputs": [
        {
          "output_type": "display_data",
          "data": {
            "text/html": [
              "7"
            ],
            "text/markdown": "7",
            "text/latex": "7",
            "text/plain": [
              "[1] 7"
            ]
          },
          "metadata": {}
        },
        {
          "output_type": "stream",
          "name": "stdout",
          "text": [
            "[1] 1 3 5 3 9\n"
          ]
        }
      ]
    },
    {
      "cell_type": "code",
      "source": [
        "#Missing Data\n",
        "my_vec4 = c(1,2,NA,4)\n",
        "print(my_vec4)\n",
        "is.na(my_vec4)\n",
        "anyNA(my_vec4)"
      ],
      "metadata": {
        "colab": {
          "base_uri": "https://localhost:8080/",
          "height": 69
        },
        "id": "EuAVgWFHLSk-",
        "outputId": "09835be1-d9be-42cc-b81d-b32930507eea"
      },
      "execution_count": 21,
      "outputs": [
        {
          "output_type": "stream",
          "name": "stdout",
          "text": [
            "[1]  1  2 NA  4\n"
          ]
        },
        {
          "output_type": "display_data",
          "data": {
            "text/html": [
              "<style>\n",
              ".list-inline {list-style: none; margin:0; padding: 0}\n",
              ".list-inline>li {display: inline-block}\n",
              ".list-inline>li:not(:last-child)::after {content: \"\\00b7\"; padding: 0 .5ex}\n",
              "</style>\n",
              "<ol class=list-inline><li>FALSE</li><li>FALSE</li><li>TRUE</li><li>FALSE</li></ol>\n"
            ],
            "text/markdown": "1. FALSE\n2. FALSE\n3. TRUE\n4. FALSE\n\n\n",
            "text/latex": "\\begin{enumerate*}\n\\item FALSE\n\\item FALSE\n\\item TRUE\n\\item FALSE\n\\end{enumerate*}\n",
            "text/plain": [
              "[1] FALSE FALSE  TRUE FALSE"
            ]
          },
          "metadata": {}
        },
        {
          "output_type": "display_data",
          "data": {
            "text/html": [
              "TRUE"
            ],
            "text/markdown": "TRUE",
            "text/latex": "TRUE",
            "text/plain": [
              "[1] TRUE"
            ]
          },
          "metadata": {}
        }
      ]
    },
    {
      "cell_type": "code",
      "source": [
        "# 2 List Data Structure - can contain different data type.\n",
        "my_list1 = list(5,'name',c(1,3,5,7))\n",
        "print(my_list1)"
      ],
      "metadata": {
        "colab": {
          "base_uri": "https://localhost:8080/"
        },
        "id": "qncNocWNO7Fs",
        "outputId": "1fd89775-b5c4-4316-ab1f-7c17d1f6c2c0"
      },
      "execution_count": 25,
      "outputs": [
        {
          "output_type": "stream",
          "name": "stdout",
          "text": [
            "[[1]]\n",
            "[1] 5\n",
            "\n",
            "[[2]]\n",
            "[1] \"name\"\n",
            "\n",
            "[[3]]\n",
            "[1] 1 3 5 7\n",
            "\n"
          ]
        }
      ]
    },
    {
      "cell_type": "code",
      "source": [
        "# Assign names to slots of List\n",
        "names(my_list1) = c('one','two','three')\n",
        "str(my_list1)\n",
        "#Accessing list elements\n",
        "my_list1[3] #gives slot name and elements\n",
        "my_list1$three #gives list elements as slot name is already defined."
      ],
      "metadata": {
        "colab": {
          "base_uri": "https://localhost:8080/",
          "height": 138
        },
        "id": "heja0i26R0a5",
        "outputId": "090813b2-46e3-4de1-eab0-3f743ff0be2a"
      },
      "execution_count": 28,
      "outputs": [
        {
          "output_type": "stream",
          "name": "stdout",
          "text": [
            "List of 3\n",
            " $ one  : num 5\n",
            " $ two  : chr \"name\"\n",
            " $ three: num [1:4] 1 3 5 7\n"
          ]
        },
        {
          "output_type": "display_data",
          "data": {
            "text/html": [
              "<strong>$three</strong> = <style>\n",
              ".list-inline {list-style: none; margin:0; padding: 0}\n",
              ".list-inline>li {display: inline-block}\n",
              ".list-inline>li:not(:last-child)::after {content: \"\\00b7\"; padding: 0 .5ex}\n",
              "</style>\n",
              "<ol class=list-inline><li>1</li><li>3</li><li>5</li><li>7</li></ol>\n"
            ],
            "text/markdown": "**$three** = 1. 1\n2. 3\n3. 5\n4. 7\n\n\n",
            "text/latex": "\\textbf{\\$three} = \\begin{enumerate*}\n\\item 1\n\\item 3\n\\item 5\n\\item 7\n\\end{enumerate*}\n",
            "text/plain": [
              "$three\n",
              "[1] 1 3 5 7\n"
            ]
          },
          "metadata": {}
        },
        {
          "output_type": "display_data",
          "data": {
            "text/html": [
              "<style>\n",
              ".list-inline {list-style: none; margin:0; padding: 0}\n",
              ".list-inline>li {display: inline-block}\n",
              ".list-inline>li:not(:last-child)::after {content: \"\\00b7\"; padding: 0 .5ex}\n",
              "</style>\n",
              "<ol class=list-inline><li>1</li><li>3</li><li>5</li><li>7</li></ol>\n"
            ],
            "text/markdown": "1. 1\n2. 3\n3. 5\n4. 7\n\n\n",
            "text/latex": "\\begin{enumerate*}\n\\item 1\n\\item 3\n\\item 5\n\\item 7\n\\end{enumerate*}\n",
            "text/plain": [
              "[1] 1 3 5 7"
            ]
          },
          "metadata": {}
        }
      ]
    },
    {
      "cell_type": "code",
      "source": [
        "# 3 Matrix Data Structure is an atomic vector with one or more dimensions.\n",
        "my_matrix1 = matrix(c(1,2,3,4), nrow = 2, ncol = 2)\n",
        "print(my_matrix1)\n",
        "\n",
        "my_matrix2 = matrix(c(1,2,3,4,5,6), nrow = 2, ncol = 3, byrow = TRUE)\n",
        "print(my_matrix2)"
      ],
      "metadata": {
        "colab": {
          "base_uri": "https://localhost:8080/"
        },
        "id": "LbLZW_NJTjTe",
        "outputId": "e7beda71-fa6c-4c40-825d-5ba1af068b5a"
      },
      "execution_count": 32,
      "outputs": [
        {
          "output_type": "stream",
          "name": "stdout",
          "text": [
            "     [,1] [,2]\n",
            "[1,]    1    3\n",
            "[2,]    2    4\n",
            "     [,1] [,2] [,3]\n",
            "[1,]    1    2    3\n",
            "[2,]    4    5    6\n"
          ]
        }
      ]
    },
    {
      "cell_type": "code",
      "source": [
        "# Assign row names and column names\n",
        "rownames(my_matrix2) = c('one','two')\n",
        "colnames(my_matrix2) = c('col1','col2','col3')\n",
        "str(my_matrix2)\n",
        "#Access elements of matrix\n",
        "my_matrix2[1,2]"
      ],
      "metadata": {
        "colab": {
          "base_uri": "https://localhost:8080/",
          "height": 104
        },
        "id": "TMEMssIiU7o8",
        "outputId": "f93d0b64-a78d-4300-d2ff-5e34352d9f50"
      },
      "execution_count": 34,
      "outputs": [
        {
          "output_type": "stream",
          "name": "stdout",
          "text": [
            " num [1:2, 1:3] 1 4 2 5 3 6\n",
            " - attr(*, \"dimnames\")=List of 2\n",
            "  ..$ : chr [1:2] \"one\" \"two\"\n",
            "  ..$ : chr [1:3] \"col1\" \"col2\" \"col3\"\n"
          ]
        },
        {
          "output_type": "display_data",
          "data": {
            "text/html": [
              "2"
            ],
            "text/markdown": "2",
            "text/latex": "2",
            "text/plain": [
              "[1] 2"
            ]
          },
          "metadata": {}
        }
      ]
    },
    {
      "cell_type": "code",
      "source": [
        "# 4 Dataframe data structure is list of lists with each sublist of same length.It is like a rectangular list.\n",
        "#create a dataframe manually\n",
        "ID = c('A','B','C')\n",
        "Age = c(24,26,29)\n",
        "Height = c(167,180,177)\n",
        "df1 = data.frame(ID,Age,Height)\n",
        "df1\n"
      ],
      "metadata": {
        "colab": {
          "base_uri": "https://localhost:8080/",
          "height": 192
        },
        "id": "-9RhyXi_Vxze",
        "outputId": "8af521a4-1a0c-4f5f-982f-974df7355732"
      },
      "execution_count": 36,
      "outputs": [
        {
          "output_type": "display_data",
          "data": {
            "text/html": [
              "<table class=\"dataframe\">\n",
              "<caption>A data.frame: 3 × 3</caption>\n",
              "<thead>\n",
              "\t<tr><th scope=col>ID</th><th scope=col>Age</th><th scope=col>Height</th></tr>\n",
              "\t<tr><th scope=col>&lt;chr&gt;</th><th scope=col>&lt;dbl&gt;</th><th scope=col>&lt;dbl&gt;</th></tr>\n",
              "</thead>\n",
              "<tbody>\n",
              "\t<tr><td>A</td><td>24</td><td>167</td></tr>\n",
              "\t<tr><td>B</td><td>26</td><td>180</td></tr>\n",
              "\t<tr><td>C</td><td>29</td><td>177</td></tr>\n",
              "</tbody>\n",
              "</table>\n"
            ],
            "text/markdown": "\nA data.frame: 3 × 3\n\n| ID &lt;chr&gt; | Age &lt;dbl&gt; | Height &lt;dbl&gt; |\n|---|---|---|\n| A | 24 | 167 |\n| B | 26 | 180 |\n| C | 29 | 177 |\n\n",
            "text/latex": "A data.frame: 3 × 3\n\\begin{tabular}{lll}\n ID & Age & Height\\\\\n <chr> & <dbl> & <dbl>\\\\\n\\hline\n\t A & 24 & 167\\\\\n\t B & 26 & 180\\\\\n\t C & 29 & 177\\\\\n\\end{tabular}\n",
            "text/plain": [
              "  ID Age Height\n",
              "1 A  24  167   \n",
              "2 B  26  180   \n",
              "3 C  29  177   "
            ]
          },
          "metadata": {}
        }
      ]
    },
    {
      "cell_type": "code",
      "source": [
        "# first n rows\n",
        "head(df1,1)\n",
        "# last n rows\n",
        "tail(df1,2)\n",
        "# Dimensions od df rows and columns\n",
        "dim(df1)\n",
        "# rows in df\n",
        "nrow(df1)\n",
        "# cols in df\n",
        "ncol(df1)"
      ],
      "metadata": {
        "colab": {
          "base_uri": "https://localhost:8080/",
          "height": 342
        },
        "id": "QPuMaJ7BYx56",
        "outputId": "754f53c5-3565-4754-f41e-7d3cd44cbcc4"
      },
      "execution_count": 43,
      "outputs": [
        {
          "output_type": "display_data",
          "data": {
            "text/html": [
              "<table class=\"dataframe\">\n",
              "<caption>A data.frame: 1 × 3</caption>\n",
              "<thead>\n",
              "\t<tr><th></th><th scope=col>ID</th><th scope=col>Age</th><th scope=col>Height</th></tr>\n",
              "\t<tr><th></th><th scope=col>&lt;chr&gt;</th><th scope=col>&lt;dbl&gt;</th><th scope=col>&lt;dbl&gt;</th></tr>\n",
              "</thead>\n",
              "<tbody>\n",
              "\t<tr><th scope=row>1</th><td>A</td><td>24</td><td>167</td></tr>\n",
              "</tbody>\n",
              "</table>\n"
            ],
            "text/markdown": "\nA data.frame: 1 × 3\n\n| <!--/--> | ID &lt;chr&gt; | Age &lt;dbl&gt; | Height &lt;dbl&gt; |\n|---|---|---|---|\n| 1 | A | 24 | 167 |\n\n",
            "text/latex": "A data.frame: 1 × 3\n\\begin{tabular}{r|lll}\n  & ID & Age & Height\\\\\n  & <chr> & <dbl> & <dbl>\\\\\n\\hline\n\t1 & A & 24 & 167\\\\\n\\end{tabular}\n",
            "text/plain": [
              "  ID Age Height\n",
              "1 A  24  167   "
            ]
          },
          "metadata": {}
        },
        {
          "output_type": "display_data",
          "data": {
            "text/html": [
              "<table class=\"dataframe\">\n",
              "<caption>A data.frame: 2 × 3</caption>\n",
              "<thead>\n",
              "\t<tr><th></th><th scope=col>ID</th><th scope=col>Age</th><th scope=col>Height</th></tr>\n",
              "\t<tr><th></th><th scope=col>&lt;chr&gt;</th><th scope=col>&lt;dbl&gt;</th><th scope=col>&lt;dbl&gt;</th></tr>\n",
              "</thead>\n",
              "<tbody>\n",
              "\t<tr><th scope=row>2</th><td>B</td><td>26</td><td>180</td></tr>\n",
              "\t<tr><th scope=row>3</th><td>C</td><td>29</td><td>177</td></tr>\n",
              "</tbody>\n",
              "</table>\n"
            ],
            "text/markdown": "\nA data.frame: 2 × 3\n\n| <!--/--> | ID &lt;chr&gt; | Age &lt;dbl&gt; | Height &lt;dbl&gt; |\n|---|---|---|---|\n| 2 | B | 26 | 180 |\n| 3 | C | 29 | 177 |\n\n",
            "text/latex": "A data.frame: 2 × 3\n\\begin{tabular}{r|lll}\n  & ID & Age & Height\\\\\n  & <chr> & <dbl> & <dbl>\\\\\n\\hline\n\t2 & B & 26 & 180\\\\\n\t3 & C & 29 & 177\\\\\n\\end{tabular}\n",
            "text/plain": [
              "  ID Age Height\n",
              "2 B  26  180   \n",
              "3 C  29  177   "
            ]
          },
          "metadata": {}
        },
        {
          "output_type": "display_data",
          "data": {
            "text/html": [
              "<style>\n",
              ".list-inline {list-style: none; margin:0; padding: 0}\n",
              ".list-inline>li {display: inline-block}\n",
              ".list-inline>li:not(:last-child)::after {content: \"\\00b7\"; padding: 0 .5ex}\n",
              "</style>\n",
              "<ol class=list-inline><li>3</li><li>3</li></ol>\n"
            ],
            "text/markdown": "1. 3\n2. 3\n\n\n",
            "text/latex": "\\begin{enumerate*}\n\\item 3\n\\item 3\n\\end{enumerate*}\n",
            "text/plain": [
              "[1] 3 3"
            ]
          },
          "metadata": {}
        },
        {
          "output_type": "display_data",
          "data": {
            "text/html": [
              "3"
            ],
            "text/markdown": "3",
            "text/latex": "3",
            "text/plain": [
              "[1] 3"
            ]
          },
          "metadata": {}
        },
        {
          "output_type": "display_data",
          "data": {
            "text/html": [
              "3"
            ],
            "text/markdown": "3",
            "text/latex": "3",
            "text/plain": [
              "[1] 3"
            ]
          },
          "metadata": {}
        },
        {
          "output_type": "display_data",
          "data": {
            "text/html": [
              "<style>\n",
              ".list-inline {list-style: none; margin:0; padding: 0}\n",
              ".list-inline>li {display: inline-block}\n",
              ".list-inline>li:not(:last-child)::after {content: \"\\00b7\"; padding: 0 .5ex}\n",
              "</style>\n",
              "<ol class=list-inline><li>'A'</li><li>'B'</li><li>'C'</li></ol>\n"
            ],
            "text/markdown": "1. 'A'\n2. 'B'\n3. 'C'\n\n\n",
            "text/latex": "\\begin{enumerate*}\n\\item 'A'\n\\item 'B'\n\\item 'C'\n\\end{enumerate*}\n",
            "text/plain": [
              "[1] \"A\" \"B\" \"C\""
            ]
          },
          "metadata": {}
        }
      ]
    },
    {
      "cell_type": "code",
      "source": [
        "# Access df elements of a column\n",
        "df1[['ID']]\n",
        "# Access df elements of a row\n",
        "df1[2,] #giving row name and comma will give entire row info\n",
        "# Access multiple columns\n",
        "df1[c('ID','Age')]"
      ],
      "metadata": {
        "colab": {
          "base_uri": "https://localhost:8080/",
          "height": 339
        },
        "id": "kpoahsZVaXaB",
        "outputId": "ef183105-b9a4-40b1-d687-edf424edc4b3"
      },
      "execution_count": 47,
      "outputs": [
        {
          "output_type": "display_data",
          "data": {
            "text/html": [
              "<style>\n",
              ".list-inline {list-style: none; margin:0; padding: 0}\n",
              ".list-inline>li {display: inline-block}\n",
              ".list-inline>li:not(:last-child)::after {content: \"\\00b7\"; padding: 0 .5ex}\n",
              "</style>\n",
              "<ol class=list-inline><li>'A'</li><li>'B'</li><li>'C'</li></ol>\n"
            ],
            "text/markdown": "1. 'A'\n2. 'B'\n3. 'C'\n\n\n",
            "text/latex": "\\begin{enumerate*}\n\\item 'A'\n\\item 'B'\n\\item 'C'\n\\end{enumerate*}\n",
            "text/plain": [
              "[1] \"A\" \"B\" \"C\""
            ]
          },
          "metadata": {}
        },
        {
          "output_type": "display_data",
          "data": {
            "text/html": [
              "<table class=\"dataframe\">\n",
              "<caption>A data.frame: 1 × 3</caption>\n",
              "<thead>\n",
              "\t<tr><th></th><th scope=col>ID</th><th scope=col>Age</th><th scope=col>Height</th></tr>\n",
              "\t<tr><th></th><th scope=col>&lt;chr&gt;</th><th scope=col>&lt;dbl&gt;</th><th scope=col>&lt;dbl&gt;</th></tr>\n",
              "</thead>\n",
              "<tbody>\n",
              "\t<tr><th scope=row>2</th><td>B</td><td>26</td><td>180</td></tr>\n",
              "</tbody>\n",
              "</table>\n"
            ],
            "text/markdown": "\nA data.frame: 1 × 3\n\n| <!--/--> | ID &lt;chr&gt; | Age &lt;dbl&gt; | Height &lt;dbl&gt; |\n|---|---|---|---|\n| 2 | B | 26 | 180 |\n\n",
            "text/latex": "A data.frame: 1 × 3\n\\begin{tabular}{r|lll}\n  & ID & Age & Height\\\\\n  & <chr> & <dbl> & <dbl>\\\\\n\\hline\n\t2 & B & 26 & 180\\\\\n\\end{tabular}\n",
            "text/plain": [
              "  ID Age Height\n",
              "2 B  26  180   "
            ]
          },
          "metadata": {}
        },
        {
          "output_type": "display_data",
          "data": {
            "text/html": [
              "<table class=\"dataframe\">\n",
              "<caption>A data.frame: 3 × 2</caption>\n",
              "<thead>\n",
              "\t<tr><th scope=col>ID</th><th scope=col>Age</th></tr>\n",
              "\t<tr><th scope=col>&lt;chr&gt;</th><th scope=col>&lt;dbl&gt;</th></tr>\n",
              "</thead>\n",
              "<tbody>\n",
              "\t<tr><td>A</td><td>24</td></tr>\n",
              "\t<tr><td>B</td><td>26</td></tr>\n",
              "\t<tr><td>C</td><td>29</td></tr>\n",
              "</tbody>\n",
              "</table>\n"
            ],
            "text/markdown": "\nA data.frame: 3 × 2\n\n| ID &lt;chr&gt; | Age &lt;dbl&gt; |\n|---|---|\n| A | 24 |\n| B | 26 |\n| C | 29 |\n\n",
            "text/latex": "A data.frame: 3 × 2\n\\begin{tabular}{ll}\n ID & Age\\\\\n <chr> & <dbl>\\\\\n\\hline\n\t A & 24\\\\\n\t B & 26\\\\\n\t C & 29\\\\\n\\end{tabular}\n",
            "text/plain": [
              "  ID Age\n",
              "1 A  24 \n",
              "2 B  26 \n",
              "3 C  29 "
            ]
          },
          "metadata": {}
        }
      ]
    },
    {
      "cell_type": "code",
      "source": [
        "# 5 Factor data structure is a vector that can contain only predefined values, and is used to store categorical data\n",
        "# Create a factor for storing list of genders\n",
        "gender = factor(c('male','female','male','female'))\n",
        "print(gender) #Levels will give distinct values\n",
        "# Functions of Gender\n",
        "levels(gender)\n",
        "# Modifying gender\n",
        "gender[1] = 'Female'\n",
        "print(gender)\n"
      ],
      "metadata": {
        "colab": {
          "base_uri": "https://localhost:8080/",
          "height": 138
        },
        "id": "xus1vY5Nbbux",
        "outputId": "0fedcff9-6dc0-4ffd-f26c-66e35a0e1ef9"
      },
      "execution_count": 50,
      "outputs": [
        {
          "output_type": "stream",
          "name": "stdout",
          "text": [
            "[1] male   female male   female\n",
            "Levels: female male\n"
          ]
        },
        {
          "output_type": "display_data",
          "data": {
            "text/html": [
              "<style>\n",
              ".list-inline {list-style: none; margin:0; padding: 0}\n",
              ".list-inline>li {display: inline-block}\n",
              ".list-inline>li:not(:last-child)::after {content: \"\\00b7\"; padding: 0 .5ex}\n",
              "</style>\n",
              "<ol class=list-inline><li>'female'</li><li>'male'</li></ol>\n"
            ],
            "text/markdown": "1. 'female'\n2. 'male'\n\n\n",
            "text/latex": "\\begin{enumerate*}\n\\item 'female'\n\\item 'male'\n\\end{enumerate*}\n",
            "text/plain": [
              "[1] \"female\" \"male\"  "
            ]
          },
          "metadata": {}
        },
        {
          "output_type": "stream",
          "name": "stderr",
          "text": [
            "Warning message in `[<-.factor`(`*tmp*`, 1, value = \"Female\"):\n",
            "“invalid factor level, NA generated”\n"
          ]
        },
        {
          "output_type": "stream",
          "name": "stdout",
          "text": [
            "[1] <NA>   female male   female\n",
            "Levels: female male\n"
          ]
        }
      ]
    },
    {
      "cell_type": "code",
      "source": [
        "# Importing Data in R\n",
        "#file = 'http:/openmv.net/file/food-texture.csv'\n",
        "file = '/content/food-texture.csv' #file under content folder will be removed after session ends which is drawback in colab\n",
        "foodData = read.csv(file, header = TRUE, row.names = 1, stringsAsFactors = FALSE)\n",
        "#foodData\n",
        "dim(foodData)\n",
        "#Get rows and columns\n",
        "nrow(foodData)\n",
        "ncol(foodData)\n",
        "#structure of dataframe\n",
        "str(foodData)\n",
        "#Functions\n",
        "mean(foodData$Density)\n",
        "apply(foodData, 2, mean) #2 refers column wise direction applying mean to all columns and 1 referes to row wise direction\n",
        "apply(foodData[c('Oil','Density')], 2 , mean) "
      ],
      "metadata": {
        "colab": {
          "base_uri": "https://localhost:8080/",
          "height": 225
        },
        "id": "ZKdf_CVXg7RN",
        "outputId": "d28f0e31-332e-48d2-e856-697e101ffa1a"
      },
      "execution_count": 60,
      "outputs": [
        {
          "output_type": "display_data",
          "data": {
            "text/html": [
              "<style>\n",
              ".list-inline {list-style: none; margin:0; padding: 0}\n",
              ".list-inline>li {display: inline-block}\n",
              ".list-inline>li:not(:last-child)::after {content: \"\\00b7\"; padding: 0 .5ex}\n",
              "</style>\n",
              "<ol class=list-inline><li>50</li><li>5</li></ol>\n"
            ],
            "text/markdown": "1. 50\n2. 5\n\n\n",
            "text/latex": "\\begin{enumerate*}\n\\item 50\n\\item 5\n\\end{enumerate*}\n",
            "text/plain": [
              "[1] 50  5"
            ]
          },
          "metadata": {}
        },
        {
          "output_type": "display_data",
          "data": {
            "text/html": [
              "50"
            ],
            "text/markdown": "50",
            "text/latex": "50",
            "text/plain": [
              "[1] 50"
            ]
          },
          "metadata": {}
        },
        {
          "output_type": "display_data",
          "data": {
            "text/html": [
              "5"
            ],
            "text/markdown": "5",
            "text/latex": "5",
            "text/plain": [
              "[1] 5"
            ]
          },
          "metadata": {}
        },
        {
          "output_type": "stream",
          "name": "stdout",
          "text": [
            "'data.frame':\t50 obs. of  5 variables:\n",
            " $ Oil     : num  16.5 17.7 16.2 16.7 16.3 19.1 18.4 17.5 15.7 16.4 ...\n",
            " $ Density : int  2955 2660 2870 2920 2975 2790 2750 2770 2955 2945 ...\n",
            " $ Crispy  : int  10 14 12 10 11 13 13 10 11 11 ...\n",
            " $ Fracture: int  23 9 17 31 26 16 17 26 23 24 ...\n",
            " $ Hardness: int  97 139 143 95 143 189 114 63 123 132 ...\n"
          ]
        },
        {
          "output_type": "display_data",
          "data": {
            "text/html": [
              "2857.6"
            ],
            "text/markdown": "2857.6",
            "text/latex": "2857.6",
            "text/plain": [
              "[1] 2857.6"
            ]
          },
          "metadata": {}
        },
        {
          "output_type": "display_data",
          "data": {
            "text/html": [
              "<style>\n",
              ".dl-inline {width: auto; margin:0; padding: 0}\n",
              ".dl-inline>dt, .dl-inline>dd {float: none; width: auto; display: inline-block}\n",
              ".dl-inline>dt::after {content: \":\\0020\"; padding-right: .5ex}\n",
              ".dl-inline>dt:not(:first-of-type) {padding-left: .5ex}\n",
              "</style><dl class=dl-inline><dt>Oil</dt><dd>17.202</dd><dt>Density</dt><dd>2857.6</dd><dt>Crispy</dt><dd>11.52</dd><dt>Fracture</dt><dd>20.86</dd><dt>Hardness</dt><dd>128.18</dd></dl>\n"
            ],
            "text/markdown": "Oil\n:   17.202Density\n:   2857.6Crispy\n:   11.52Fracture\n:   20.86Hardness\n:   128.18\n\n",
            "text/latex": "\\begin{description*}\n\\item[Oil] 17.202\n\\item[Density] 2857.6\n\\item[Crispy] 11.52\n\\item[Fracture] 20.86\n\\item[Hardness] 128.18\n\\end{description*}\n",
            "text/plain": [
              "     Oil  Density   Crispy Fracture Hardness \n",
              "  17.202 2857.600   11.520   20.860  128.180 "
            ]
          },
          "metadata": {}
        },
        {
          "output_type": "display_data",
          "data": {
            "text/html": [
              "<style>\n",
              ".dl-inline {width: auto; margin:0; padding: 0}\n",
              ".dl-inline>dt, .dl-inline>dd {float: none; width: auto; display: inline-block}\n",
              ".dl-inline>dt::after {content: \":\\0020\"; padding-right: .5ex}\n",
              ".dl-inline>dt:not(:first-of-type) {padding-left: .5ex}\n",
              "</style><dl class=dl-inline><dt>Oil</dt><dd>17.202</dd><dt>Density</dt><dd>2857.6</dd></dl>\n"
            ],
            "text/markdown": "Oil\n:   17.202Density\n:   2857.6\n\n",
            "text/latex": "\\begin{description*}\n\\item[Oil] 17.202\n\\item[Density] 2857.6\n\\end{description*}\n",
            "text/plain": [
              "     Oil  Density \n",
              "  17.202 2857.600 "
            ]
          },
          "metadata": {}
        }
      ]
    }
  ]
}